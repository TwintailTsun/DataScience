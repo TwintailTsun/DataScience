{
  "cells": [
    {
      "cell_type": "markdown",
      "metadata": {
        "id": "M-DGa20PaHnu"
      },
      "source": [
        "#Задача 1\n",
        "Написать функцию на вход которой подается строка, состоящая из латинских букв.\n",
        "Функция должна вернуть количество гласных букв (a, e, i, o, u) в этой строке. Написать тесты для кода"
      ]
    },
    {
      "cell_type": "code",
      "execution_count": null,
      "metadata": {
        "id": "XvX8X_JJ6PCb",
        "colab": {
          "base_uri": "https://localhost:8080/"
        },
        "outputId": "df3dbffb-76db-4863-ceab-43ee7f61fe06"
      },
      "outputs": [
        {
          "output_type": "stream",
          "name": "stdout",
          "text": [
            "All test cases pass\n"
          ]
        }
      ],
      "source": [
        "def count_vowels(s):\n",
        "    # Определяем строку с гласными буквами, учитывая оба регистра\n",
        "    vowels = \"aeiouAEIOU\"\n",
        "    count = 0\n",
        "    # Проходим по каждому символу в строке\n",
        "    for char in s:\n",
        "        # Если символ является гласной буквой, увеличиваем счетчик\n",
        "        if char in vowels:\n",
        "            count += 1\n",
        "    return count\n",
        "\n",
        "def test_count_vowels():\n",
        "    # Тест 1: Строка без гласных букв\n",
        "    assert count_vowels(\"bcdfgh\") == 0, \"Test Case 1 Failed\"\n",
        "\n",
        "    # Тест 2: Строка с одной гласной буквой\n",
        "    assert count_vowels(\"hello\") == 2, \"Test Case 2 Failed\"\n",
        "\n",
        "    # Тест 3: Строка с гласными буквами в разных регистрах\n",
        "    assert count_vowels(\"AEIOUaeiou\") == 10, \"Test Case 3 Failed\"\n",
        "\n",
        "    # Тест 4: Строка с только гласными буквами\n",
        "    assert count_vowels(\"aeiou\") == 5, \"Test Case 4 Failed\"\n",
        "\n",
        "    # Тест 5: Пустая строка\n",
        "    assert count_vowels(\"\") == 0, \"Test Case 5 Failed\"\n",
        "\n",
        "    # Тест 6: Строка с цифрами и символами, но без гласных\n",
        "    assert count_vowels(\"12345!@#$%\") == 0, \"Test Case 6 Failed\"\n",
        "\n",
        "    # Тест 7: Строка с гласными и согласными буквами\n",
        "    assert count_vowels(\"Python Programming\") == 4, \"Test Case 7 Failed\"\n",
        "\n",
        "    # Тест 8: Строка с повторяющимися гласными\n",
        "    assert count_vowels(\"aAaAaA\") == 6, \"Test Case 8 Failed\"\n",
        "\n",
        "    print(\"All test cases pass\")\n",
        "\n",
        "# Запуск тестов\n",
        "test_count_vowels()"
      ]
    },
    {
      "cell_type": "markdown",
      "metadata": {
        "id": "t2ClV_Y0bbr6"
      },
      "source": [
        "# Задача 2\n",
        "Написать функцию на вход, которой подается строка. Функция должна вернуть true, если\n",
        "каждый символ в строке встречается только 1 раз, иначе должна вернуть false. Написать тесты для кода"
      ]
    },
    {
      "cell_type": "code",
      "execution_count": null,
      "metadata": {
        "id": "FppbECao6VIz",
        "colab": {
          "base_uri": "https://localhost:8080/"
        },
        "outputId": "304a0bd3-52e9-43ac-fa71-85d62f59239d"
      },
      "outputs": [
        {
          "output_type": "stream",
          "name": "stdout",
          "text": [
            "All test cases pass\n"
          ]
        }
      ],
      "source": [
        "def unique_characters(s):\n",
        "    # Используем множество для хранения уникальных символов\n",
        "    unique_chars = set()\n",
        "    # Проходим по каждому символу в строке\n",
        "    for char in s:\n",
        "        # Если символ уже есть в множестве, возвращаем False\n",
        "        if char in unique_chars:\n",
        "            return False\n",
        "        # Добавляем символ в множество\n",
        "        unique_chars.add(char)\n",
        "    # Если все символы уникальны, возвращаем True\n",
        "    return True\n",
        "\n",
        "def test_unique_characters():\n",
        "    # Тест 1: Строка с уникальными символами\n",
        "    assert unique_characters(\"abcdef\") == True, \"Test Case 1 Failed\"\n",
        "\n",
        "    # Тест 2: Строка с повторяющимися символами\n",
        "    assert unique_characters(\"aabbcc\") == False, \"Test Case 2 Failed\"\n",
        "\n",
        "    # Тест 3: Пустая строка\n",
        "    assert unique_characters(\"\") == True, \"Test Case 3 Failed\"\n",
        "\n",
        "    # Тест 4: Строка с одним символом\n",
        "    assert unique_characters(\"a\") == True, \"Test Case 4 Failed\"\n",
        "\n",
        "    # Тест 5: Строка с символами в разных регистрах\n",
        "    assert unique_characters(\"AaBbCc\") == True, \"Test Case 5 Failed\"\n",
        "\n",
        "    # Тест 6: Строка с повторяющимися символами в разных регистрах\n",
        "    assert unique_characters(\"AaAa\") == False, \"Test Case 6 Failed\"\n",
        "\n",
        "    # Тест 7: Строка с цифрами и символами\n",
        "    assert unique_characters(\"12345!@#$%\") == True, \"Test Case 7 Failed\"\n",
        "\n",
        "    # Тест 8: Строка с повторяющимися цифрами\n",
        "    assert unique_characters(\"112233\") == False, \"Test Case 8 Failed\"\n",
        "\n",
        "    print(\"All test cases pass\")\n",
        "\n",
        "# Запуск тестов\n",
        "test_unique_characters()\n"
      ]
    },
    {
      "cell_type": "markdown",
      "metadata": {
        "id": "udRiIK1cdt6E"
      },
      "source": [
        "# Задача 3\n",
        "Написать функцию, которая принимает положительное число и возвращает количество\n",
        "бит равных 1 в этом числе. Написать тесты для кода"
      ]
    },
    {
      "cell_type": "code",
      "execution_count": null,
      "metadata": {
        "id": "6tkfDJRz6dp_",
        "colab": {
          "base_uri": "https://localhost:8080/"
        },
        "outputId": "e6febb84-f901-47e2-a44e-bdc526e317e0"
      },
      "outputs": [
        {
          "output_type": "stream",
          "name": "stdout",
          "text": [
            "All test cases pass\n"
          ]
        }
      ],
      "source": [
        "def count_bits(n):\n",
        "    # Преобразуем число в двоичный формат и считаем количество единиц\n",
        "    return bin(n).count('1')\n",
        "\n",
        "def test_count_bits():\n",
        "    # Тест 1: Число 0 (нет единиц в двоичном представлении)\n",
        "    assert count_bits(0) == 0, \"Test Case 1 Failed\"\n",
        "\n",
        "    # Тест 2: Число 1 (одна единица в двоичном представлении)\n",
        "    assert count_bits(1) == 1, \"Test Case 2 Failed\"\n",
        "\n",
        "    # Тест 3: Число 2 (одна единица в двоичном представлении)\n",
        "    assert count_bits(2) == 1, \"Test Case 3 Failed\"\n",
        "\n",
        "    # Тест 4: Число 3 (две единицы в двоичном представлении)\n",
        "    assert count_bits(3) == 2, \"Test Case 4 Failed\"\n",
        "\n",
        "    # Тест 5: Число 8 (одна единица в двоичном представлении)\n",
        "    assert count_bits(8) == 1, \"Test Case 5 Failed\"\n",
        "\n",
        "    # Тест 6: Число 15 (четыре единицы в двоичном представлении)\n",
        "    assert count_bits(15) == 4, \"Test Case 6 Failed\"\n",
        "\n",
        "    # Тест 7: Число 255 (восемь единиц в двоичном представлении)\n",
        "    assert count_bits(255) == 8, \"Test Case 7 Failed\"\n",
        "\n",
        "    # Тест 8: Число 1023 (десять единиц в двоичном представлении)\n",
        "    assert count_bits(1023) == 10, \"Test Case 8 Failed\"\n",
        "\n",
        "    print(\"All test cases pass\")\n",
        "\n",
        "# Запуск тестов\n",
        "test_count_bits()\n"
      ]
    },
    {
      "cell_type": "markdown",
      "metadata": {
        "id": "26dDUz-Ae17N"
      },
      "source": [
        "# Задача 4\n",
        "Написать функцию, которая принимает положительное число. Функция должна вернуть то,\n",
        "сколько раз необходимо перемножать цифры числа или результат перемножения, чтобы\n",
        "получилось число состоящее из одной цифры.\n",
        "Например, для входного числа:\n",
        "· 39 функция должна вернуть 3, так как 3*9=27 => 2*7=14 => 1*4=4\n",
        "· 4 функция должна вернуть 0, так как число уже состоит из одной цифры\n",
        "· 999 функция должна вернуть 4, так как 9*9*9=729 => 7*2*9=126 => 1*2*6=12 =>\n",
        "1*2=2. Написать тесты для кода"
      ]
    },
    {
      "cell_type": "code",
      "execution_count": null,
      "metadata": {
        "id": "BH1A_Mgi6i4G",
        "colab": {
          "base_uri": "https://localhost:8080/"
        },
        "outputId": "d51bd2ef-3049-4233-b206-3682773f5405"
      },
      "outputs": [
        {
          "output_type": "stream",
          "name": "stdout",
          "text": [
            "All test cases pass\n"
          ]
        }
      ],
      "source": [
        "def magic(n):\n",
        "    count = 0  # Инициализируем счетчик количества операций\n",
        "    while n >= 10:  # Продолжаем, пока n имеет более одной цифры\n",
        "        result = 1  # Инициализируем переменную для хранения результата перемножения\n",
        "        for digit in str(n):  # Преобразуем число в строку и перебираем каждую цифру\n",
        "            result *= int(digit)  # Умножаем текущий результат на цифру\n",
        "        n = result  # Обновляем n на результат перемножения\n",
        "        count += 1  # Увеличиваем счетчик операций\n",
        "    return count  # Возвращаем количество операций\n",
        "\n",
        "def test_magic():\n",
        "    # Тест 1: Число 39\n",
        "    assert magic(39) == 3, \"Test Case 1 Failed\"\n",
        "\n",
        "    # Тест 2: Число 4\n",
        "    assert magic(4) == 0, \"Test Case 2 Failed\"\n",
        "\n",
        "    # Тест 3: Число 999\n",
        "    assert magic(999) == 4, \"Test Case 3 Failed\"\n",
        "\n",
        "    # Тест 4: Число 1\n",
        "    assert magic(1) == 0, \"Test Case 4 Failed\"\n",
        "\n",
        "    # Тест 5: Число 10\n",
        "    assert magic(10) == 1, \"Test Case 5 Failed\"\n",
        "\n",
        "    # Тест 6: Число 25\n",
        "    assert magic(25) == 2, \"Test Case 6 Failed\"\n",
        "\n",
        "    # Тест 7: Число 77\n",
        "    assert magic(77) == 4, \"Test Case 7 Failed\"\n",
        "\n",
        "    # Тест 8: Число 99\n",
        "    assert magic(99) == 2, \"Test Case 8 Failed\"\n",
        "\n",
        "    print(\"All test cases pass\")\n",
        "\n",
        "# Запуск тестов\n",
        "test_magic()\n"
      ]
    },
    {
      "cell_type": "markdown",
      "metadata": {
        "id": "0nS-kIa8g8vd"
      },
      "source": [
        "# Задача 5\n",
        "Написать функцию, которая принимает два целочисленных вектора одинаковой длины и\n",
        "возвращает среднеквадратическое отклонение двух векторов. Написать тесты для кода"
      ]
    },
    {
      "cell_type": "code",
      "execution_count": null,
      "metadata": {
        "id": "8iphx4LM6xbx",
        "colab": {
          "base_uri": "https://localhost:8080/"
        },
        "outputId": "174d3313-157e-46be-a7e9-ecca12a3d893"
      },
      "outputs": [
        {
          "output_type": "stream",
          "name": "stdout",
          "text": [
            "All test cases pass\n"
          ]
        }
      ],
      "source": [
        "def mse(pred, true):\n",
        "    error_sum = 0\n",
        "    # Проходим по парам элементов из двух векторов\n",
        "    for p, t in zip(pred, true):\n",
        "        # Суммируем квадраты разностей между элементами\n",
        "        error_sum += (p - t) ** 2\n",
        "    # Возвращаем среднее значение суммы квадратов ошибок\n",
        "    return error_sum / len(pred)\n",
        "\n",
        "def test_mse():\n",
        "    # Тест 1: Два вектора с одинаковыми элементами\n",
        "    assert mse([1, 2, 3], [1, 2, 3]) == 0, \"Test Case 1 Failed\"\n",
        "\n",
        "    # Тест 2: Два вектора с одним отличающимся элементом\n",
        "    assert mse([1, 2, 3], [1, 2, 4]) == 0.3333333333333333, \"Test Case 2 Failed\"\n",
        "\n",
        "    # Тест 3: Два вектора с полностью отличающимися элементами\n",
        "    assert mse([1, 2, 3], [4, 5, 6]) == 9, \"Test Case 3 Failed\"\n",
        "\n",
        "    # Тест 4: Два вектора с одним элементом\n",
        "    assert mse([1], [2]) == 1, \"Test Case 4 Failed\"\n",
        "\n",
        "    # Тест 5: Два вектора с отрицательными числами\n",
        "    assert mse([-1, -2, -3], [-4, -5, -6]) == 9, \"Test Case 5 Failed\"\n",
        "\n",
        "    # Тест 6: Два вектора с нулевыми значениями\n",
        "    assert mse([0, 0, 0], [0, 0, 0]) == 0, \"Test Case 6 Failed\"\n",
        "\n",
        "    # Тест 7: Два вектора с дробными числами\n",
        "    assert mse([1.5, 2.5, 3.5], [1.5, 2.5, 3.5]) == 0, \"Test Case 7 Failed\"\n",
        "\n",
        "    # Тест 8: Два вектора с одним отличающимся дробным элементом\n",
        "    assert mse([1.5, 2.5, 3.5], [1.5, 2.5, 4.5]) == 0.3333333333333333, \"Test Case 8 Failed\"\n",
        "\n",
        "    print(\"All test cases pass\")\n",
        "\n",
        "# Запуск тестов\n",
        "test_mse()\n"
      ]
    },
    {
      "cell_type": "markdown",
      "metadata": {
        "id": "vpIPKL439zkw"
      },
      "source": [
        "# Задача 6\n",
        "Написать функцию, принимающая целое положительное число. Функция должна вернуть\n",
        "строку вида “(n1**p1)(n2**p2)…(nk**pk)” представляющая разложение числа на простые\n",
        "множители (если pi == 1, то выводить только ni).\n",
        "Например, для числа 86240 функция должна вернуть “(2**5)(5)(7**2)(11)”. Написать тесты для кода"
      ]
    },
    {
      "cell_type": "code",
      "execution_count": null,
      "metadata": {
        "id": "pFebmcZk94Jw",
        "colab": {
          "base_uri": "https://localhost:8080/"
        },
        "outputId": "4a2614bb-f59e-4727-b6c9-95f404a5aaee"
      },
      "outputs": [
        {
          "output_type": "stream",
          "name": "stdout",
          "text": [
            "All test cases pass\n"
          ]
        }
      ],
      "source": [
        "def prime_factors(n):\n",
        "    factors = []  # Список для хранения простых множителей\n",
        "    divisor = 2  # Начинаем с наименьшего простого числа\n",
        "    while n > 1:  # Продолжаем, пока n больше 1\n",
        "        count = 0  # Счетчик степени текущего делителя\n",
        "        while n % divisor == 0:  # Пока n делится на текущий делитель\n",
        "            n //= divisor  # Делим n на делитель\n",
        "            count += 1  # Увеличиваем счетчик степени\n",
        "        if count > 0:  # Если делитель встретился хотя бы один раз\n",
        "            if count == 1:  # Если степень равна 1\n",
        "                factors.append(f\"({divisor})\")  # Добавляем делитель без степени\n",
        "            else:  # Если степень больше 1\n",
        "                factors.append(f\"({divisor}^{count})\")  # Добавляем делитель со степенью\n",
        "        divisor += 1  # Переходим к следующему делителю\n",
        "    return ''.join(factors)  # Объединяем все множители в строку\n",
        "\n",
        "def test_prime_factors():\n",
        "    # Тест 1: Число 86240\n",
        "    assert prime_factors(86240) == \"(2^5)(5)(7^2)(11)\", \"Test Case 1 Failed\"\n",
        "\n",
        "    # Тест 2: Число 2\n",
        "    assert prime_factors(2) == \"(2)\", \"Test Case 2 Failed\"\n",
        "\n",
        "    # Тест 3: Число 1\n",
        "    assert prime_factors(1) == \"\", \"Test Case 3 Failed\"\n",
        "\n",
        "    # Тест 4: Число 12\n",
        "    assert prime_factors(12) == \"(2^2)(3)\", \"Test Case 4 Failed\"\n",
        "\n",
        "    # Тест 5: Число 30\n",
        "    assert prime_factors(30) == \"(2)(3)(5)\", \"Test Case 5 Failed\"\n",
        "\n",
        "    # Тест 6: Число 100\n",
        "    assert prime_factors(100) == \"(2^2)(5^2)\", \"Test Case 6 Failed\"\n",
        "\n",
        "    # Тест 7: Число 1024\n",
        "    assert prime_factors(1024) == \"(2^10)\", \"Test Case 7 Failed\"\n",
        "\n",
        "    # Тест 8: Число 999\n",
        "    assert prime_factors(999) == \"(3^3)(37)\", \"Test Case 8 Failed\"\n",
        "\n",
        "    print(\"All test cases pass\")\n",
        "\n",
        "# Запуск тестов\n",
        "test_prime_factors()\n"
      ]
    },
    {
      "cell_type": "markdown",
      "metadata": {
        "id": "ps2s0BudX7A2"
      },
      "source": [
        "# Задача 7\n",
        "Написать функцию, принимающая целое число n, задающее количество кубиков. Функция\n",
        "должна определить, можно ли из данного кол-ва кубиков построить пирамиду, то есть\n",
        "можно ли представить число n как 1^2+2^2+3^2+…+k^2. Если можно, то функция должна\n",
        "вернуть k, иначе строку “It is impossible”. Написать тесты для кода"
      ]
    },
    {
      "cell_type": "code",
      "execution_count": null,
      "metadata": {
        "id": "3YPjEXxhX_YT",
        "colab": {
          "base_uri": "https://localhost:8080/"
        },
        "outputId": "f3ea2638-3962-4b3e-9eea-ff7e1b7affa3"
      },
      "outputs": [
        {
          "output_type": "stream",
          "name": "stdout",
          "text": [
            "All test cases pass\n"
          ]
        }
      ],
      "source": [
        "def pyramid(number):\n",
        "    k = 0  # Инициализируем счетчик уровней пирамиды\n",
        "    total_cubes = 0  # Инициализируем переменную для хранения общего количества кубиков\n",
        "    while total_cubes < number:  # Продолжаем, пока общее количество кубиков меньше заданного числа\n",
        "        k += 1  # Увеличиваем счетчик уровней\n",
        "        total_cubes += k ** 2  # Добавляем количество кубиков на текущем уровне\n",
        "    if total_cubes == number:  # Если общее количество кубиков равно заданному числу\n",
        "        return k  # Возвращаем k\n",
        "    else:  # Иначе\n",
        "        return \"It is impossible\"  # Возвращаем \"It is impossible\"\n",
        "\n",
        "def test_pyramid():\n",
        "    # Тест 1: Число 1 (минимальное возможное число кубиков)\n",
        "    assert pyramid(1) == 1, \"Test Case 1 Failed\"\n",
        "\n",
        "    # Тест 2: Число 5 (невозможно построить пирамиду)\n",
        "    assert pyramid(5) == 2, \"Test Case 2 Failed\"\n",
        "\n",
        "    # Тест 3: Число 14 (невозможно построить пирамиду)\n",
        "    assert pyramid(14) == 3, \"Test Case 3 Failed\"\n",
        "\n",
        "    # Тест 4: Число 30 (невозможно построить пирамиду)\n",
        "    assert pyramid(30) == 4, \"Test Case 4 Failed\"\n",
        "\n",
        "    # Тест 5: Число 55 (возможно построить пирамиду из 5 уровней)\n",
        "    assert pyramid(55) == 5, \"Test Case 5 Failed\"\n",
        "\n",
        "    # Тест 6: Число 12 (невозможно построить пирамиду)\n",
        "    assert pyramid(12) == \"It is impossible\", \"Test Case 6 Failed\"\n",
        "\n",
        "    # Тест 7: Число 100 (возможно построить пирамиду из 6 уровней)\n",
        "    assert pyramid(100) == \"It is impossible\", \"Test Case 7 Failed\"\n",
        "\n",
        "    # Тест 8: Число 91 (возможно построить пирамиду из 6 уровней)\n",
        "    assert pyramid(91) == 6, \"Test Case 8 Failed\"\n",
        "\n",
        "    print(\"All test cases pass\")\n",
        "\n",
        "# Запуск тестов\n",
        "test_pyramid()"
      ]
    },
    {
      "cell_type": "markdown",
      "metadata": {
        "id": "KeKgmIdAQMEJ"
      },
      "source": [
        "# Задача 8\n",
        "Функция принимает на вход положительное число и определяет является ли оно сбалансированным, т.е. сумма цифр до средних равна сумме цифр после. Средними в случае нечетного числа цифр считать одну цифру, в случае четного - две средних. Написать тесты для кода"
      ]
    },
    {
      "cell_type": "code",
      "execution_count": null,
      "metadata": {
        "id": "gMAAqtqlQrZt",
        "colab": {
          "base_uri": "https://localhost:8080/"
        },
        "outputId": "f95344b4-18ad-4c5e-83eb-3ebef816ec70"
      },
      "outputs": [
        {
          "output_type": "stream",
          "name": "stdout",
          "text": [
            "All test cases pass\n"
          ]
        }
      ],
      "source": [
        "def is_balanced(n):\n",
        "    s = str(n)  # Преобразуем число в строку для удобства работы с цифрами\n",
        "    length = len(s)  # Определяем длину строки\n",
        "    mid = length // 2  # Находим индекс середины строки\n",
        "\n",
        "    if length % 2 == 0:  # Если длина строки четная\n",
        "        left_sum = sum(int(digit) for digit in s[:mid])  # Сумма цифр до средних\n",
        "        right_sum = sum(int(digit) for digit in s[mid:])  # Сумма цифр после средних\n",
        "    else:  # Если длина строки нечетная\n",
        "        left_sum = sum(int(digit) for digit in s[:mid])  # Сумма цифр до средней\n",
        "        right_sum = sum(int(digit) for digit in s[mid+1:])  # Сумма цифр после средней\n",
        "\n",
        "    return left_sum == right_sum  # Возвращаем True, если суммы равны, иначе False\n",
        "\n",
        "def test_is_balanced():\n",
        "    # Тест 1: Число 12321 (сбалансированное, нечетное количество цифр)\n",
        "    assert is_balanced(12321) == True, \"Test Case 1 Failed\"\n",
        "\n",
        "    # Тест 2: Число 1234321 (сбалансированное, нечетное количество цифр)\n",
        "    assert is_balanced(1234321) == True, \"Test Case 2 Failed\"\n",
        "\n",
        "    # Тест 3: Число 123456 (не сбалансированное, четное количество цифр)\n",
        "    assert is_balanced(123456) == False, \"Test Case 3 Failed\"\n",
        "\n",
        "    # Тест 4: Число 123321 (сбалансированное, четное количество цифр)\n",
        "    assert is_balanced(123321) == True, \"Test Case 4 Failed\"\n",
        "\n",
        "    # Тест 5: Число 1 (сбалансированное, одна цифра)\n",
        "    assert is_balanced(1) == True, \"Test Case 5 Failed\"\n",
        "\n",
        "    # Тест 6: Число 12 (не сбалансированное, две цифры)\n",
        "    assert is_balanced(12) == False, \"Test Case 6 Failed\"\n",
        "\n",
        "    # Тест 7: Число 12345 (не сбалансированное, нечетное количество цифр)\n",
        "    assert is_balanced(12345) == False, \"Test Case 7 Failed\"\n",
        "\n",
        "    # Тест 8: Число 123456789 (не сбалансированное, нечетное количество цифр)\n",
        "    assert is_balanced(123456789) == False, \"Test Case 8 Failed\"\n",
        "\n",
        "    print(\"All test cases pass\")\n",
        "\n",
        "# Запуск тестов\n",
        "test_is_balanced()\n"
      ]
    },
    {
      "cell_type": "code",
      "execution_count": null,
      "metadata": {
        "id": "aTbtteBZVOXe"
      },
      "outputs": [],
      "source": []
    }
  ],
  "metadata": {
    "colab": {
      "provenance": []
    },
    "kernelspec": {
      "display_name": "Python 3",
      "name": "python3"
    },
    "language_info": {
      "codemirror_mode": {
        "name": "ipython",
        "version": 3
      },
      "file_extension": ".py",
      "mimetype": "text/x-python",
      "name": "python",
      "nbconvert_exporter": "python",
      "pygments_lexer": "ipython3",
      "version": "3.12.4"
    }
  },
  "nbformat": 4,
  "nbformat_minor": 0
}